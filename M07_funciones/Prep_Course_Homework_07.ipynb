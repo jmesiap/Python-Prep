{
 "cells": [
  {
   "attachments": {},
   "cell_type": "markdown",
   "metadata": {},
   "source": [
    "## Funciones"
   ]
  },
  {
   "attachments": {},
   "cell_type": "markdown",
   "metadata": {},
   "source": [
    "1) Crear una función que reciba un número como parámetro y devuelva True si es primo y False si no lo es"
   ]
  },
  {
   "cell_type": "code",
   "execution_count": 10,
   "metadata": {},
   "outputs": [
    {
     "name": "stdout",
     "output_type": "stream",
     "text": [
      "False\n"
     ]
    }
   ],
   "source": [
    "def F_primo(num):\n",
    "    \n",
    "    if num == 1: return False\n",
    "\n",
    "    for i in range(2,num):\n",
    "        if  num % i == 0: \n",
    "            return False\n",
    "            break           \n",
    "    return True        \n",
    "    \n",
    "print(F_primo(6))"
   ]
  },
  {
   "attachments": {},
   "cell_type": "markdown",
   "metadata": {},
   "source": [
    "2) Utilizando la función del punto 1, realizar otra función que reciba de parámetro una lista de números y devuelva sólo aquellos que son primos en otra lista"
   ]
  },
  {
   "cell_type": "code",
   "execution_count": 11,
   "metadata": {},
   "outputs": [
    {
     "name": "stdout",
     "output_type": "stream",
     "text": [
      "[2, 3, 5, 7, 11, 13, 17, 19, 23, 29]\n"
     ]
    }
   ],
   "source": [
    "def F_List_Primo(lista_Num):\n",
    "    Nueva_lista=list()\n",
    "    for i in lista_Num:\n",
    "        indi = F_primo(i) \n",
    "        if indi==True:\n",
    "            Nueva_lista.append(i)\n",
    "    \n",
    "    return Nueva_lista\n",
    "\n",
    "Mostrar = F_List_Primo([1, 2, 3, 4, 5, 6,7,8,9,10,11,12,13,14,15,16,17,18,19,20,21,22,23,24,25,26,27,28,29,30])    \n",
    "print(Mostrar)"
   ]
  },
  {
   "attachments": {},
   "cell_type": "markdown",
   "metadata": {},
   "source": [
    "3) Crear una función que al recibir una lista de números, devuelva el que más se repite y cuántas veces lo hace. Si hay más de un \"más repetido\", que devuelva cualquiera"
   ]
  },
  {
   "cell_type": "code",
   "execution_count": 2,
   "metadata": {},
   "outputs": [
    {
     "name": "stdout",
     "output_type": "stream",
     "text": [
      "(1, 3)\n",
      "(3, 1)\n",
      "(4, 1)\n",
      "(5, 6)\n",
      "[9, 7]\n",
      "El número  9 se repites :  7  veces\n"
     ]
    }
   ],
   "source": [
    "def F_Repite(numeros):\n",
    "    numeros.sort()\n",
    "    contador = 1\n",
    "    mayor_Veces=0\n",
    "    mayor_Num=0\n",
    "    i = 1\n",
    "    Lista_Nueva=[]\n",
    "    while i < (len(numeros)):\n",
    "        if numeros[i-1] == numeros[i]:\n",
    "           contador = contador+1\n",
    "           if i == len(numeros)-1:\n",
    "              Lista_Nueva.append([numeros[i-1], contador])  \n",
    "                   \n",
    "              if contador > mayor_Veces:\n",
    "                 mayor_Veces = contador \n",
    "                 mayor_Num = numeros[i-1] \n",
    "\n",
    "        else:\n",
    "            Lista_Nueva.append((numeros[i-1], contador))    \n",
    "            \n",
    "            if contador > mayor_Veces:\n",
    "               mayor_Veces = contador \n",
    "               mayor_Num = numeros[i-1]\n",
    "            contador=1\n",
    "        i += 1\n",
    "    \n",
    "    return Lista_Nueva, mayor_Veces, mayor_Num\n",
    "    \n",
    "\n",
    "List_1, veces, num = (F_Repite([1,9,1,9,9,9,9,9,5,5,5,5,5,5,1,4,9,3]))\n",
    "for i in List_1:\n",
    "   print(i)\n",
    "\n",
    "print(\"El número \", num, \"se repites : \", veces, \" veces\" )\n",
    "\n",
    "\n"
   ]
  },
  {
   "attachments": {},
   "cell_type": "markdown",
   "metadata": {},
   "source": [
    "4) Crear una función que convierta entre grados Celsius, Farenheit y Kelvin<br>\n",
    "Fórmula 1\t: (°C × 9/5) + 32 = °F<br>\n",
    "Fórmula 2\t: °C + 273.15 = °K<br>\n",
    "Debe recibir 3 parámetros: el valor, la medida de orígen y la medida de destino\n"
   ]
  },
  {
   "cell_type": "code",
   "execution_count": 71,
   "metadata": {},
   "outputs": [
    {
     "name": "stdout",
     "output_type": "stream",
     "text": [
      "41.0\n"
     ]
    }
   ],
   "source": [
    "def convertir(valor, origen, destino):\n",
    "    resultado=0\n",
    "    if origen==\"Celsius\":\n",
    "        if destino == \"Farenheit\":\n",
    "            resultado = (valor*1.8) + 32    \n",
    "        elif destino == \"Kelvin\":\n",
    "            resultado = valor + 273.15    \n",
    "        elif destino == \"Celsius\":\n",
    "            resultado = valor        \n",
    "        else: print(\"Inghrese valor correcto Farenheit, Kelvin ó Celsius\")\n",
    "    elif origen==\"Farenheit\":\n",
    "        if destino == \"Celsius\":\n",
    "            resultado = (valor-32) + 1.8    \n",
    "        elif destino == \"Kelvin\":\n",
    "            resultado = ((5*valor) + 2298.35)/9\n",
    "        elif destino == \"Farenheit\":\n",
    "            resultado = valor        \n",
    "        else: print(\"Inghrese valor correcto Farenheit, Kelvin ó Celsius\")\n",
    "    elif origen==\"Kelvin\":\n",
    "        if destino == \"Celsius\":\n",
    "            resultado = valor-273.15\n",
    "        elif destino == \"Farenheit\":\n",
    "            resultado = (9*valor-2458.35)/5 + 32\n",
    "        elif destino == \"Kelvin\":\n",
    "            resultado = valor        \n",
    "        else: print(\"Inghrese valor correcto Farenheit, Kelvin ó Celsius\")\n",
    "    else: print(\"Inghrese valor correcto Farenheit, Kelvin ó Celsius\")    \n",
    "   \n",
    "    return resultado\n",
    "\n",
    "Valor_Result = convertir(5, \"Celsius\", \"Farenheit\")    \n",
    "\n",
    "print(round(Valor_Result,2))"
   ]
  },
  {
   "attachments": {},
   "cell_type": "markdown",
   "metadata": {},
   "source": [
    "5) Iterando una lista con los tres valores posibles de temperatura que recibe la función del punto 5, hacer un print para cada combinación de los mismos:"
   ]
  },
  {
   "cell_type": "code",
   "execution_count": 79,
   "metadata": {},
   "outputs": [
    {
     "name": "stdout",
     "output_type": "stream",
     "text": [
      "Ingrese un valor a convertir: \n",
      "5 grados Celsius es igual a:  5 grados Celsius\n",
      "5 grados Celsius es igual a:  278 grados Kelvin\n",
      "5 grados Celsius es igual a:  41 grados Farenheit\n",
      "5 grados Kelvin es igual a:  -268 grados Celsius\n",
      "5 grados Kelvin es igual a:  5 grados Kelvin\n",
      "5 grados Kelvin es igual a:  -451 grados Farenheit\n",
      "5 grados Farenheit es igual a:  -25 grados Celsius\n",
      "5 grados Farenheit es igual a:  258 grados Kelvin\n",
      "5 grados Farenheit es igual a:  5 grados Farenheit\n"
     ]
    }
   ],
   "source": [
    "lista_valores=[\"Celsius\", \"Kelvin\", \"Farenheit\"]\n",
    "print(\"Ingrese un valor a convertir: \")\n",
    "num = int(input ())\n",
    "\n",
    "for i in range(3):\n",
    "    for j in range(3):\n",
    "        \n",
    "        print (num,\"grados\",lista_valores[i], \"es igual a: \",round(convertir(num, lista_valores[i], lista_valores[j])), \"grados\", lista_valores[j])\n"
   ]
  },
  {
   "attachments": {},
   "cell_type": "markdown",
   "metadata": {},
   "source": [
    "6) Armar una función que devuelva el factorial de un número. Tener en cuenta que el usuario puede equivocarse y enviar de parámetro un número no entero o negativo"
   ]
  },
  {
   "cell_type": "code",
   "execution_count": 129,
   "metadata": {},
   "outputs": [
    {
     "name": "stdout",
     "output_type": "stream",
     "text": [
      "Debe ingresar un número entero\n"
     ]
    }
   ],
   "source": [
    "def Calc_facto(num):\n",
    "    \n",
    "    if num == 1:\n",
    "        return 1\n",
    "    if type(num) != int:\n",
    "        return 'Debe ingresar un número entero'\n",
    "    if num < 0:\n",
    "        return 'El número debe ser positivo'\n",
    "        \n",
    "    num = num  * Calc_facto(num - 1)\n",
    "    return num\n",
    "\n",
    "\n",
    "\n",
    "\n",
    "\n",
    "print(Calc_facto(5.5))\n",
    "\n",
    "\n"
   ]
  }
 ],
 "metadata": {
  "interpreter": {
   "hash": "c85384e4cb51c8b72350f3a8712cc8351fdc3955e32a27f9b60c6242ab125f01"
  },
  "kernelspec": {
   "display_name": "Python 3 (ipykernel)",
   "language": "python",
   "name": "python3"
  },
  "language_info": {
   "codemirror_mode": {
    "name": "ipython",
    "version": 3
   },
   "file_extension": ".py",
   "mimetype": "text/x-python",
   "name": "python",
   "nbconvert_exporter": "python",
   "pygments_lexer": "ipython3",
   "version": "3.11.4"
  }
 },
 "nbformat": 4,
 "nbformat_minor": 4
}
