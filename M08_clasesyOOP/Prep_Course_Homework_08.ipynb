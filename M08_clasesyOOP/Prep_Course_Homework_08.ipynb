{
 "cells": [
  {
   "attachments": {},
   "cell_type": "markdown",
   "metadata": {},
   "source": [
    "## Clases y Programación Orientada a Objetos"
   ]
  },
  {
   "attachments": {},
   "cell_type": "markdown",
   "metadata": {},
   "source": [
    "1) Crear la clase vehículo que contenga los atributos:<br>\n",
    "Color<br>\n",
    "Si es moto, auto, camioneta ó camión<br>\n",
    "Cilindrada del motor"
   ]
  },
  {
   "cell_type": "code",
   "execution_count": 4,
   "metadata": {},
   "outputs": [],
   "source": [
    "class Vehiculo:\n",
    "    def __init__(self, color, tipo, cilindrada):\n",
    "        self.color = color\n",
    "        self.tipo = tipo\n",
    "        self.cilindrada = cilindrada\n",
    "        \n"
   ]
  },
  {
   "attachments": {},
   "cell_type": "markdown",
   "metadata": {},
   "source": [
    "2) A la clase Vehiculo creada en el punto 1, agregar los siguientes métodos:<br>\n",
    "Acelerar<br>\n",
    "Frenar<br>\n",
    "Doblar<br>"
   ]
  },
  {
   "cell_type": "code",
   "execution_count": 41,
   "metadata": {},
   "outputs": [],
   "source": [
    "class Vehiculo:\n",
    "    def __init__(self, color, tipo, cilindrada):\n",
    "        self.color = color\n",
    "        self.tipo = tipo\n",
    "        self.cilindrada = cilindrada\n",
    "    \n",
    "    def Acelerar(self, velocidad):\n",
    "        print(\"la velocidad es de:\", velocidad)\n",
    "\n",
    "    def Frenar(self, velocidad):\n",
    "        print(\"La distancia de frenado a una velocidad de\",velocidad, \"km/h es de:\", round(velocidad*(velocidad/180),1), \"mt\")\n",
    "\n",
    "    def Doblar(self, lado):    \n",
    "        print(\"Voltear al lado:\", lado)\n",
    "\n"
   ]
  },
  {
   "attachments": {},
   "cell_type": "markdown",
   "metadata": {},
   "source": [
    "3) Instanciar 3 objetos de la clase vehículo y ejecutar sus métodos, probar luego el resultado"
   ]
  },
  {
   "cell_type": "code",
   "execution_count": 42,
   "metadata": {},
   "outputs": [
    {
     "name": "stdout",
     "output_type": "stream",
     "text": [
      "la velocidad es de: 100\n",
      "La distancia de frenado a una velocidad de 100 km/h es de: 55.6 mt\n",
      "Voltear al lado: Derecho\n"
     ]
    }
   ],
   "source": [
    "Veh_1 = Vehiculo(\"Verde\", \"Auto\", 5)\n",
    "Veh_2 = Vehiculo(\"Amarillo\", \"Moto\", 3)\n",
    "Veh_3 = Vehiculo(\"Cian\", \"Auto\", 2)\n",
    "Veh_1.Acelerar(100)  \n",
    "Veh_2.Frenar(100)      \n",
    "Veh_3.Doblar(\"Derecho\")"
   ]
  },
  {
   "attachments": {},
   "cell_type": "markdown",
   "metadata": {},
   "source": [
    "4) Agregar a la clase Vehiculo, un método que muestre su estado, es decir, a que velocidad se encuentra y su dirección. Y otro método que muestre color, tipo y cilindrada"
   ]
  },
  {
   "cell_type": "code",
   "execution_count": 58,
   "metadata": {},
   "outputs": [],
   "source": [
    "class Vehiculo:\n",
    "    def __init__(self, color, tipo, cilindrada):\n",
    "        self.color = color\n",
    "        self.tipo = tipo\n",
    "        self.cilindrada = cilindrada\n",
    "        self.velocidad = 0\n",
    "        self.direccion = \"\"\n",
    "\n",
    "    def Acelerar(self, velocidad):\n",
    "        print(\"la velocidad es de:\", velocidad)\n",
    "\n",
    "    def Frenar(self, velocidad):\n",
    "        print(\"La distancia de frenado a una velocidad de\",velocidad, \"km/h es de:\", round(velocidad*(velocidad/180),1), \"mt\")\n",
    "\n",
    "    def Doblar(self, lado):    \n",
    "        print(\"Voltear al lado:\", lado)\n",
    "\n",
    "    def estado(self, velocidad, direccion):\n",
    "        print(\"Estado del auto:\", \"Velocidad:\", velocidad,\"km/h\",  \"Dirección:\", direccion)\n",
    "    \n",
    "    def detalle(self):\n",
    "        print(\"Color:\", self.color)\n",
    "        print(\"Tipo:\", self.tipo)    \n",
    "        print(\"Cilindrada:\", self.cilindrada)\n",
    "\n",
    "\n",
    "\n"
   ]
  },
  {
   "attachments": {},
   "cell_type": "markdown",
   "metadata": {},
   "source": [
    "5) Crear una clase que permita utilizar las funciones creadas en la práctica del módulo 7<br>\n",
    "Verificar Primo<br>\n",
    "Valor modal<br>\n",
    "Conversión grados<br>\n",
    "Factorial<br>"
   ]
  },
  {
   "cell_type": "code",
   "execution_count": 53,
   "metadata": {},
   "outputs": [],
   "source": [
    "class Func_creadas_Mod7:\n",
    "    \n",
    "    \"\"\" def __init__(self) -> None:\n",
    "        pass \"\"\"\n",
    "\n",
    "    def F_primo(self, num):\n",
    "        if num == 1: return False, num, \"No es número primo\"    \n",
    "\n",
    "        for i in range(2,num):\n",
    "            if  num % i == 0: \n",
    "                return False,num, \"No es número primo\"    \n",
    "                break           \n",
    "        return True, num, \"Es número primo\"    \n",
    "    \n",
    "    \n",
    "    def F_Repite(self, numeros):\n",
    "        numeros.sort()\n",
    "        contador = 1\n",
    "        mayor_Veces=0\n",
    "        mayor_Num=0\n",
    "        i = 1\n",
    "        Lista_Nueva=[]\n",
    "        while i < (len(numeros)):\n",
    "            if numeros[i-1] == numeros[i]:\n",
    "               contador = contador+1\n",
    "               if i == len(numeros)-1:\n",
    "                  Lista_Nueva.append([numeros[i-1], contador])  \n",
    "                    \n",
    "                  if contador > mayor_Veces:\n",
    "                    mayor_Veces = contador \n",
    "                    mayor_Num = numeros[i-1] \n",
    "\n",
    "            else:\n",
    "                Lista_Nueva.append((numeros[i-1], contador))    \n",
    "                \n",
    "                if contador > mayor_Veces:\n",
    "                    mayor_Veces = contador \n",
    "                    mayor_Num = numeros[i-1]\n",
    "                contador=1\n",
    "            i += 1\n",
    "        \n",
    "        return Lista_Nueva, mayor_Veces, mayor_Num\n",
    "        \n",
    "\n",
    "\n",
    "    def F_convertir(self, valor, origen, destino):\n",
    "            resultado=0\n",
    "            if origen==\"Celsius\":\n",
    "                if destino == \"Farenheit\":\n",
    "                    resultado = (valor*1.8) + 32    \n",
    "                elif destino == \"Kelvin\":\n",
    "                    resultado = valor + 273.15    \n",
    "                elif destino == \"Celsius\":\n",
    "                    resultado = valor        \n",
    "                else: print(\"Inghrese valor correcto Farenheit, Kelvin ó Celsius\")\n",
    "            elif origen==\"Farenheit\":\n",
    "                if destino == \"Celsius\":\n",
    "                    resultado = (valor-32) + 1.8    \n",
    "                elif destino == \"Kelvin\":\n",
    "                    resultado = ((5*valor) + 2298.35)/9\n",
    "                elif destino == \"Farenheit\":\n",
    "                    resultado = valor        \n",
    "                else: print(\"Inghrese valor correcto Farenheit, Kelvin ó Celsius\")\n",
    "            elif origen==\"Kelvin\":\n",
    "                if destino == \"Celsius\":\n",
    "                    resultado = valor-273.15\n",
    "                elif destino == \"Farenheit\":\n",
    "                    resultado = (9*valor-2458.35)/5 + 32\n",
    "                elif destino == \"Kelvin\":\n",
    "                    resultado = valor        \n",
    "                else: print(\"Inghrese valor correcto Farenheit, Kelvin ó Celsius\")\n",
    "            else: print(\"Inghrese valor correcto Farenheit, Kelvin ó Celsius\")    \n",
    "   \n",
    "            return resultado, valor\n",
    "\n",
    "  \n",
    "    def F_facto(self, num):\n",
    "        \n",
    "        if num == 1:\n",
    "            return 1\n",
    "        if type(num) != int:\n",
    "            return 'Debe ingresar un número entero'\n",
    "        if num < 0:\n",
    "            return 'El número debe ser positivo'\n",
    "            \n",
    "        num = num  * self.F_facto(num - 1)\n",
    "        return num\n",
    "        \n",
    "    "
   ]
  },
  {
   "attachments": {},
   "cell_type": "markdown",
   "metadata": {},
   "source": [
    "6) Probar las funciones incorporadas en la clase del punto 5"
   ]
  },
  {
   "cell_type": "code",
   "execution_count": 55,
   "metadata": {},
   "outputs": [
    {
     "name": "stdout",
     "output_type": "stream",
     "text": [
      "-----------------Números primos-----------------\n",
      "\n",
      "(False, 1, 'No es número primo')\n",
      "\n",
      "----------El número que mas se repite-----------\n",
      "\n",
      "(1, 3)\n",
      "(3, 1)\n",
      "(4, 1)\n",
      "(5, 6)\n",
      "(8, 2)\n",
      "[9, 7]\n",
      "El número  9 se repites :  7  veces\n",
      "\n",
      "--------------Conversión de grados:--------------\n",
      "\n",
      "5 Celcius convertido a Farenheit es igual a: 41.0\n",
      "\n",
      "-------------------Factorial:--------------------\n",
      "\n",
      "720\n"
     ]
    }
   ],
   "source": [
    "Func_C = Func_creadas_Mod7()\n",
    "\n",
    "print (\"-----------------Números primos-----------------\")\n",
    "print (\"\")\n",
    "print(Func_C.F_primo(1))\n",
    "print (\"\")\n",
    "print(\"----------El número que mas se repite-----------\")\n",
    "print (\"\")\n",
    "List_1, veces, num = Func_C.F_Repite([1,9,1,9,9,9,9,8,8,9,5,5,5,5,5,5,1,4,9,3])\n",
    "for i in List_1:\n",
    "   print(i)\n",
    "print(\"El número \", num, \"se repites : \", veces, \" veces\" )\n",
    "print (\"\")\n",
    "\n",
    "print(\"--------------Conversión de grados:--------------\")\n",
    "print (\"\")\n",
    "Valor_Result, valo = Func_C.F_convertir(5, \"Celsius\", \"Farenheit\")    \n",
    "print(valo,\"Celcius convertido a Farenheit es igual a:\",  round(Valor_Result,2))   \n",
    "print (\"\")\n",
    "\n",
    "print(\"-------------------Factorial:--------------------\")\n",
    "print (\"\")\n",
    "print(Func_C.F_facto(6))\n",
    "\n"
   ]
  },
  {
   "attachments": {},
   "cell_type": "markdown",
   "metadata": {},
   "source": [
    "7) Es necesario que la clase creada en el punto 5 contenga una lista, sobre la cual se apliquen las funciones incorporadas"
   ]
  },
  {
   "cell_type": "code",
   "execution_count": 65,
   "metadata": {},
   "outputs": [],
   "source": [
    "class Func_creadas_Mod7:\n",
    "    \n",
    "    def __init__(self, Lista_Valores):\n",
    "        self.Lista = Lista_Valores \n",
    "\n",
    "\n",
    "    def Calc_Primo(self):\n",
    "        for i in self.Lista:\n",
    "            print(self.F_primo(i))\n",
    "            \n",
    "    def F_primo(self, num):\n",
    "        if num == 1: return num, \"No es número primo\"    \n",
    "\n",
    "        for i in range(2,num):\n",
    "            if  num % i == 0: \n",
    "                return num, \"No es número primo\"\n",
    "                break           \n",
    "        return  num, \"Es número primo\"    \n",
    "    \n",
    "   \n",
    "    def F_Repite(self):\n",
    "        self.Lista.sort()\n",
    "        contador = 1\n",
    "        mayor_Veces=0\n",
    "        mayor_Num=0\n",
    "        i = 1\n",
    "        Lista_Nueva=[]\n",
    "        while i < (len(self.Lista)):\n",
    "            if self.Lista[i-1] == self.Lista[i]:\n",
    "               contador = contador+1\n",
    "               if i == len(self.Lista)-1:\n",
    "                  Lista_Nueva.append([self.Lista[i-1], contador])  \n",
    "                    \n",
    "                  if contador > mayor_Veces:\n",
    "                    mayor_Veces = contador \n",
    "                    mayor_Num = self.Lista[i-1] \n",
    "\n",
    "            else:\n",
    "                Lista_Nueva.append((self.Lista[i-1], contador))    \n",
    "                \n",
    "                if contador > mayor_Veces:\n",
    "                    mayor_Veces = contador \n",
    "                    mayor_Num = self.Lista[i-1]\n",
    "                contador=1\n",
    "            i += 1\n",
    "        \n",
    "        return Lista_Nueva, mayor_Veces, mayor_Num\n",
    "    \n",
    "    def Calc_Convertir(self, origen, destino ):\n",
    "        for i in self.Lista:    \n",
    "                Valor_Result = self.F_convertir(i, origen, destino)    \n",
    "                print(i,\"Celcius convertido a Farenheit es igual a:\",  round(Valor_Result,2))   \n",
    "\n",
    "    def F_convertir(self, valor, origen, destino):\n",
    "            resultado=0\n",
    "            if origen==\"Celsius\":\n",
    "                if destino == \"Farenheit\":\n",
    "                    resultado = (valor*1.8) + 32    \n",
    "                elif destino == \"Kelvin\":\n",
    "                    resultado = valor + 273.15    \n",
    "                elif destino == \"Celsius\":\n",
    "                    resultado = valor        \n",
    "                else: print(\"Inghrese valor correcto Farenheit, Kelvin ó Celsius\")\n",
    "            elif origen==\"Farenheit\":\n",
    "                if destino == \"Celsius\":\n",
    "                    resultado = (valor-32) + 1.8    \n",
    "                elif destino == \"Kelvin\":\n",
    "                    resultado = ((5*valor) + 2298.35)/9\n",
    "                elif destino == \"Farenheit\":\n",
    "                    resultado = valor        \n",
    "                else: print(\"Inghrese valor correcto Farenheit, Kelvin ó Celsius\")\n",
    "            elif origen==\"Kelvin\":\n",
    "                if destino == \"Celsius\":\n",
    "                    resultado = valor-273.15\n",
    "                elif destino == \"Farenheit\":\n",
    "                    resultado = (9*valor-2458.35)/5 + 32\n",
    "                elif destino == \"Kelvin\":\n",
    "                    resultado = valor        \n",
    "                else: print(\"Inghrese valor correcto Farenheit, Kelvin ó Celsius\")\n",
    "            else: print(\"Inghrese valor correcto Farenheit, Kelvin ó Celsius\")    \n",
    "   \n",
    "            return resultado\n",
    "    \n",
    "    def Calc_facto(self):\n",
    "        for i in self.Lista:\n",
    "            print(\"Factorial de\", i, \": \", self.F_facto(i))\n",
    "\n",
    "    def F_facto(self, num):\n",
    "        \n",
    "        if num == 1:\n",
    "            return 1\n",
    "        if type(num) != int:\n",
    "            return 'Debe ingresar un número entero'\n",
    "        if num < 0:\n",
    "            return 'El número debe ser positivo'\n",
    "            \n",
    "        num = num  * self.F_facto(num - 1)\n",
    "        return num"
   ]
  },
  {
   "attachments": {},
   "cell_type": "markdown",
   "metadata": {},
   "source": [
    "8) Crear un archivo .py aparte y ubicar allí la clase generada en el punto anterior. Luego realizar la importación del módulo y probar alguna de sus funciones"
   ]
  },
  {
   "cell_type": "code",
   "execution_count": 70,
   "metadata": {},
   "outputs": [
    {
     "ename": "NameError",
     "evalue": "name 'Tarea_M8_Pregunta8' is not defined",
     "output_type": "error",
     "traceback": [
      "\u001b[1;31m---------------------------------------------------------------------------\u001b[0m",
      "\u001b[1;31mNameError\u001b[0m                                 Traceback (most recent call last)",
      "\u001b[1;32mc:\\JIMPSOFT\\HENRY\\DATA SCIENCE\\Python-Prep\\M08_clasesyOOP\\Prep_Course_Homework_08.ipynb Cell 17\u001b[0m line \u001b[0;36m4\n\u001b[0;32m      <a href='vscode-notebook-cell:/c%3A/JIMPSOFT/HENRY/DATA%20SCIENCE/Python-Prep/M08_clasesyOOP/Prep_Course_Homework_08.ipynb#X22sZmlsZQ%3D%3D?line=0'>1</a>\u001b[0m \u001b[39mfrom\u001b[39;00m \u001b[39mTarea_M8_Pregunta8\u001b[39;00m \u001b[39mimport\u001b[39;00m \u001b[39m*\u001b[39m\n\u001b[0;32m      <a href='vscode-notebook-cell:/c%3A/JIMPSOFT/HENRY/DATA%20SCIENCE/Python-Prep/M08_clasesyOOP/Prep_Course_Homework_08.ipynb#X22sZmlsZQ%3D%3D?line=2'>3</a>\u001b[0m Lista_de_Numeros\u001b[39m=\u001b[39m[\u001b[39m1\u001b[39m,\u001b[39m1\u001b[39m,\u001b[39m2\u001b[39m,\u001b[39m5\u001b[39m,\u001b[39m8\u001b[39m,\u001b[39m8\u001b[39m,\u001b[39m9\u001b[39m,\u001b[39m11\u001b[39m,\u001b[39m15\u001b[39m,\u001b[39m16\u001b[39m,\u001b[39m16\u001b[39m,\u001b[39m16\u001b[39m,\u001b[39m18\u001b[39m,\u001b[39m20\u001b[39m]\n\u001b[1;32m----> <a href='vscode-notebook-cell:/c%3A/JIMPSOFT/HENRY/DATA%20SCIENCE/Python-Prep/M08_clasesyOOP/Prep_Course_Homework_08.ipynb#X22sZmlsZQ%3D%3D?line=3'>4</a>\u001b[0m Pruebas \u001b[39m=\u001b[39m Tarea_M8_Pregunta8(Lista_de_Numeros)\n\u001b[0;32m      <a href='vscode-notebook-cell:/c%3A/JIMPSOFT/HENRY/DATA%20SCIENCE/Python-Prep/M08_clasesyOOP/Prep_Course_Homework_08.ipynb#X22sZmlsZQ%3D%3D?line=4'>5</a>\u001b[0m \u001b[39mprint\u001b[39m(\u001b[39m\"\u001b[39m\u001b[39m----------Numeros Primos----------\u001b[39m\u001b[39m\"\u001b[39m)\n\u001b[0;32m      <a href='vscode-notebook-cell:/c%3A/JIMPSOFT/HENRY/DATA%20SCIENCE/Python-Prep/M08_clasesyOOP/Prep_Course_Homework_08.ipynb#X22sZmlsZQ%3D%3D?line=5'>6</a>\u001b[0m \u001b[39mprint\u001b[39m(\u001b[39m\"\u001b[39m\u001b[39m\"\u001b[39m)\n",
      "\u001b[1;31mNameError\u001b[0m: name 'Tarea_M8_Pregunta8' is not defined"
     ]
    }
   ],
   "source": [
    "from Tarea_M8_Pregunta8 import *\n",
    "\n",
    "Lista_de_Numeros=[1,1,2,5,8,8,9,11,15,16,16,16,18,20]\n",
    "Pruebas = Tarea_M8_Pregunta8(Lista_de_Numeros)\n",
    "print(\"----------Numeros Primos----------\")\n",
    "print(\"\")\n",
    "Pruebas.Calc_Primo()\n",
    "print(\"----------Repetidos----------\")\n",
    "print(\"\")\n",
    "Pruebas.F_Repite()\n",
    "List_1, veces, num = Pruebas.F_Repite()\n",
    "for i in List_1:\n",
    "   print(i)\n",
    "print(\"El número \", num, \"se repites : \", veces, \" veces\" )\n",
    "print(\"----------Convertir Grados----------\")\n",
    "print(\"\")\n",
    "Pruebas.Calc_Convertir(\"Celsius\", \"Farenheit\")\n",
    "\n",
    "print(\"-------------------Factorial:--------------------\")\n",
    "print (\"\")\n",
    "Pruebas.Calc_facto()"
   ]
  },
  {
   "cell_type": "code",
   "execution_count": 69,
   "metadata": {},
   "outputs": [
    {
     "ename": "NameError",
     "evalue": "name 'Tarea_M8_Pregunta8' is not defined",
     "output_type": "error",
     "traceback": [
      "\u001b[1;31m---------------------------------------------------------------------------\u001b[0m",
      "\u001b[1;31mNameError\u001b[0m                                 Traceback (most recent call last)",
      "\u001b[1;32mc:\\JIMPSOFT\\HENRY\\DATA SCIENCE\\Python-Prep\\M08_clasesyOOP\\Prep_Course_Homework_08.ipynb Cell 18\u001b[0m line \u001b[0;36m2\n\u001b[0;32m      <a href='vscode-notebook-cell:/c%3A/JIMPSOFT/HENRY/DATA%20SCIENCE/Python-Prep/M08_clasesyOOP/Prep_Course_Homework_08.ipynb#X24sZmlsZQ%3D%3D?line=0'>1</a>\u001b[0m Lista_de_Numeros\u001b[39m=\u001b[39m[\u001b[39m1\u001b[39m,\u001b[39m1\u001b[39m,\u001b[39m2\u001b[39m,\u001b[39m5\u001b[39m,\u001b[39m8\u001b[39m,\u001b[39m8\u001b[39m,\u001b[39m9\u001b[39m,\u001b[39m11\u001b[39m,\u001b[39m15\u001b[39m,\u001b[39m16\u001b[39m,\u001b[39m16\u001b[39m,\u001b[39m16\u001b[39m,\u001b[39m18\u001b[39m,\u001b[39m20\u001b[39m]\n\u001b[1;32m----> <a href='vscode-notebook-cell:/c%3A/JIMPSOFT/HENRY/DATA%20SCIENCE/Python-Prep/M08_clasesyOOP/Prep_Course_Homework_08.ipynb#X24sZmlsZQ%3D%3D?line=1'>2</a>\u001b[0m Pruebas \u001b[39m=\u001b[39m Tarea_M8_Pregunta8(Lista_de_Numeros)\n\u001b[0;32m      <a href='vscode-notebook-cell:/c%3A/JIMPSOFT/HENRY/DATA%20SCIENCE/Python-Prep/M08_clasesyOOP/Prep_Course_Homework_08.ipynb#X24sZmlsZQ%3D%3D?line=2'>3</a>\u001b[0m \u001b[39mprint\u001b[39m(\u001b[39m\"\u001b[39m\u001b[39m----------Numeros Primos----------\u001b[39m\u001b[39m\"\u001b[39m)\n\u001b[0;32m      <a href='vscode-notebook-cell:/c%3A/JIMPSOFT/HENRY/DATA%20SCIENCE/Python-Prep/M08_clasesyOOP/Prep_Course_Homework_08.ipynb#X24sZmlsZQ%3D%3D?line=3'>4</a>\u001b[0m \u001b[39mprint\u001b[39m(\u001b[39m\"\u001b[39m\u001b[39m\"\u001b[39m)\n",
      "\u001b[1;31mNameError\u001b[0m: name 'Tarea_M8_Pregunta8' is not defined"
     ]
    }
   ],
   "source": []
  }
 ],
 "metadata": {
  "interpreter": {
   "hash": "c85384e4cb51c8b72350f3a8712cc8351fdc3955e32a27f9b60c6242ab125f01"
  },
  "kernelspec": {
   "display_name": "Python 3 (ipykernel)",
   "language": "python",
   "name": "python3"
  },
  "language_info": {
   "codemirror_mode": {
    "name": "ipython",
    "version": 3
   },
   "file_extension": ".py",
   "mimetype": "text/x-python",
   "name": "python",
   "nbconvert_exporter": "python",
   "pygments_lexer": "ipython3",
   "version": "3.11.4"
  }
 },
 "nbformat": 4,
 "nbformat_minor": 4
}
