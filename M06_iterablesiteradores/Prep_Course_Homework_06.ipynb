{
 "cells": [
  {
   "attachments": {},
   "cell_type": "markdown",
   "metadata": {},
   "source": [
    "## Iteradores e iterables"
   ]
  },
  {
   "attachments": {},
   "cell_type": "markdown",
   "metadata": {},
   "source": [
    "1) A partir de una lista vacía, utilizar un ciclo while para cargar allí números negativos del -15 al -1"
   ]
  },
  {
   "cell_type": "code",
   "execution_count": 27,
   "metadata": {},
   "outputs": [
    {
     "name": "stdout",
     "output_type": "stream",
     "text": [
      "[-15, -14, -13, -12, -11, -10, -9, -8, -7, -6, -5, -4, -3, -2, -1]\n"
     ]
    }
   ],
   "source": [
    "Mi_Lista = list()\n",
    "\n",
    "num = (-15)\n",
    "while True:\n",
    "    if num > (-1): break\n",
    "    Mi_Lista.append(num)\n",
    "    num +=1\n",
    "print(Mi_Lista)"
   ]
  },
  {
   "attachments": {},
   "cell_type": "markdown",
   "metadata": {},
   "source": [
    "2) ¿Con un ciclo while sería posible recorrer la lista para imprimir sólo los números pares?"
   ]
  },
  {
   "cell_type": "code",
   "execution_count": 28,
   "metadata": {},
   "outputs": [
    {
     "name": "stdout",
     "output_type": "stream",
     "text": [
      "-14\n",
      "-12\n",
      "-10\n",
      "-8\n",
      "-6\n",
      "-4\n",
      "-2\n"
     ]
    }
   ],
   "source": [
    "i = 0\n",
    "while len(Mi_Lista)>i:\n",
    "    if Mi_Lista[i] % 2 == 0:\n",
    "        print(Mi_Lista[i])\n",
    "    i = i + 1\n",
    "\n"
   ]
  },
  {
   "attachments": {},
   "cell_type": "markdown",
   "metadata": {},
   "source": [
    "3) Resolver el punto anterior sin utilizar un ciclo while"
   ]
  },
  {
   "cell_type": "code",
   "execution_count": 29,
   "metadata": {},
   "outputs": [
    {
     "name": "stdout",
     "output_type": "stream",
     "text": [
      "-14\n",
      "-12\n",
      "-10\n",
      "-8\n",
      "-6\n",
      "-4\n",
      "-2\n"
     ]
    }
   ],
   "source": [
    "for i in range(len(Mi_Lista)):\n",
    "    if Mi_Lista[i] % 2 == 0:\n",
    "        print(Mi_Lista[i])\n"
   ]
  },
  {
   "attachments": {},
   "cell_type": "markdown",
   "metadata": {},
   "source": [
    "4) Utilizar el iterable para recorrer sólo los primeros 3 elementos"
   ]
  },
  {
   "cell_type": "code",
   "execution_count": 30,
   "metadata": {},
   "outputs": [
    {
     "name": "stdout",
     "output_type": "stream",
     "text": [
      "-15\n",
      "-14\n",
      "-13\n"
     ]
    }
   ],
   "source": [
    "i=0\n",
    "for c in Mi_Lista:\n",
    "    if i>2: break\n",
    "    i +=1\n",
    "    print(c)"
   ]
  },
  {
   "attachments": {},
   "cell_type": "markdown",
   "metadata": {},
   "source": [
    "5) Utilizar la función **enumerate** para obtener dentro del iterable, tambien el índice al que corresponde el elemento"
   ]
  },
  {
   "cell_type": "code",
   "execution_count": 31,
   "metadata": {},
   "outputs": [
    {
     "name": "stdout",
     "output_type": "stream",
     "text": [
      "0 -15\n",
      "1 -14\n",
      "2 -13\n"
     ]
    }
   ],
   "source": [
    "for i, c in enumerate(Mi_Lista):\n",
    "    if i>2: break\n",
    "    print(i, c)"
   ]
  },
  {
   "attachments": {},
   "cell_type": "markdown",
   "metadata": {},
   "source": [
    "6) Dada la siguiente lista de números enteros entre 1 y 20, crear un ciclo donde se completen los valores faltantes: lista = [1,2,5,7,8,10,13,14,15,17,20]"
   ]
  },
  {
   "cell_type": "code",
   "execution_count": 33,
   "metadata": {},
   "outputs": [
    {
     "name": "stdout",
     "output_type": "stream",
     "text": [
      "[1, 2, 3, 4, 5, 6, 7, 8, 9, 10, 11, 12, 13, 14, 15, 16, 17, 18, 19, 20]\n"
     ]
    }
   ],
   "source": [
    "Nueva_Lista=[1,2,5,7,8,10,13,14,15,17,20]\n",
    "for idx, val in enumerate(Nueva_Lista):\n",
    "    if idx+1 != val:\n",
    "       Nueva_Lista.insert(idx, idx+1) \n",
    "print(Nueva_Lista)"
   ]
  },
  {
   "attachments": {},
   "cell_type": "markdown",
   "metadata": {},
   "source": [
    "7) La sucesión de Fibonacci es un listado de números que sigue la fórmula: <br>\n",
    "n<sub>0</sub> = 0<br>\n",
    "n<sub>1</sub> = 1<br>\n",
    "n<sub>i</sub> = n<sub>i-1</sub> + n<sub>i-2</sub><br>\n",
    "Crear una lista con los primeros treinta números de la sucesión.<br>"
   ]
  },
  {
   "cell_type": "code",
   "execution_count": 107,
   "metadata": {},
   "outputs": [
    {
     "name": "stdout",
     "output_type": "stream",
     "text": [
      "[0, 1]\n",
      "[0, 1, 1, 2, 3, 5, 8, 13, 21, 34, 55, 89, 144, 233, 377, 610, 987, 1597, 2584, 4181, 6765, 10946, 17711, 28657, 46368, 75025, 121393, 196418, 317811, 514229]\n"
     ]
    }
   ],
   "source": [
    "S_Fibo=[0,1]\n",
    "print (S_Fibo)\n",
    "for i in range(28):\n",
    "    S_Fibo.append(S_Fibo[i+1]+S_Fibo[i])\n",
    "\n",
    "print(S_Fibo)"
   ]
  },
  {
   "attachments": {},
   "cell_type": "markdown",
   "metadata": {},
   "source": [
    "8) Realizar la suma de todos elementos de la lista del punto anterior"
   ]
  },
  {
   "cell_type": "code",
   "execution_count": 35,
   "metadata": {},
   "outputs": [
    {
     "name": "stdout",
     "output_type": "stream",
     "text": [
      "1346268\n"
     ]
    }
   ],
   "source": [
    "print(sum(S_Fibo))"
   ]
  },
  {
   "attachments": {},
   "cell_type": "markdown",
   "metadata": {},
   "source": [
    "9) La proporción aurea se expresa con una proporción matemática que nace el número irracional Phi= 1,618… que los griegos llamaron número áureo. El cuál se puede aproximar con la sucesión de Fibonacci. Con la lista del ejercicio anterior, imprimir el cociente de los últimos 5 pares de dos números contiguos:<br>\n",
    "Donde i es la cantidad total de elementos<br>\n",
    "n<sub>i-1</sub> / n<sub>i</sub><br>\n",
    "n<sub>i-2</sub> / n<sub>i-1</sub><br>\n",
    "n<sub>i-3</sub> / n<sub>i-2</sub><br>\n",
    "n<sub>i-4</sub> / n<sub>i-3</sub><br>\n",
    "n<sub>i-5</sub> / n<sub>i-4</sub><br>\n",
    " "
   ]
  },
  {
   "cell_type": "code",
   "execution_count": 114,
   "metadata": {},
   "outputs": [
    {
     "name": "stdout",
     "output_type": "stream",
     "text": [
      "[0, 1, 1, 2, 3, 5, 8, 13, 21, 34, 55, 89, 144, 233, 377, 610, 987, 1597, 2584, 4181, 6765, 10946, 17711, 28657, 46368, 75025, 121393, 196418, 317811, 514229]\n",
      "1.6180339887543225\n",
      "1.6180339887802426\n",
      "1.618033988957902\n",
      "1.6180339901755971\n",
      "1.6180339985218033\n"
     ]
    }
   ],
   "source": [
    "print(S_Fibo)\n",
    "conta = len(S_Fibo)-1\n",
    "x=0\n",
    "for i in range(1, 6):\n",
    "    print((S_Fibo[conta-x])/(S_Fibo[conta-i]))\n",
    "    conta = conta - 1\n",
    "    x=x+1\n"
   ]
  },
  {
   "attachments": {},
   "cell_type": "markdown",
   "metadata": {},
   "source": [
    "10) A partir de la variable cadena ya dada, mostrar en qué posiciones aparece la letra \"n\"<br>\n",
    "cadena = 'Hola Mundo. Esto es una practica del lenguaje de programación Python'"
   ]
  },
  {
   "cell_type": "code",
   "execution_count": 37,
   "metadata": {},
   "outputs": [
    {
     "name": "stdout",
     "output_type": "stream",
     "text": [
      "n esta en la posición:  7\n",
      "n esta en la posición:  21\n",
      "n esta en la posición:  39\n",
      "n esta en la posición:  60\n",
      "n esta en la posición:  67\n"
     ]
    }
   ],
   "source": [
    "cadena = \"Hola Mundo. Esto es una practica del lenguaje de programación Python\"\n",
    "for pos, val in enumerate(cadena):\n",
    "    if val==\"n\":\n",
    "        print(\"n esta en la posición: \", pos)"
   ]
  },
  {
   "attachments": {},
   "cell_type": "markdown",
   "metadata": {},
   "source": [
    "11) Crear un diccionario e imprimir sus claves utilizando un iterador"
   ]
  },
  {
   "cell_type": "code",
   "execution_count": 59,
   "metadata": {},
   "outputs": [
    {
     "name": "stdout",
     "output_type": "stream",
     "text": [
      "(0, 'Código')\n",
      "(1, 'Nombres')\n",
      "(2, 'Apellidos')\n",
      "(3, 'Edad')\n"
     ]
    }
   ],
   "source": [
    "Mi_Diccionario = {\n",
    "    \"Código\": [\"C001\", \"C002\", \"C003\"],\n",
    "    \"Nombres\": [\"José\", \"Mateo\", \"Janet\"],\n",
    "    \"Apellidos\": [\"Mesia\", \"Mesia Díaz\", \"Vargas\"],\n",
    "    \"Edad\": [44, 5, 44]\n",
    "}\n",
    "\n",
    "for clave in enumerate(Mi_Diccionario.keys()):\n",
    "    print( clave)"
   ]
  },
  {
   "attachments": {},
   "cell_type": "markdown",
   "metadata": {},
   "source": [
    "12) Convertir en una lista la variable \"cadena\" del punto 10 y luego recorrerla con un iterador "
   ]
  },
  {
   "cell_type": "code",
   "execution_count": 62,
   "metadata": {},
   "outputs": [
    {
     "name": "stdout",
     "output_type": "stream",
     "text": [
      "(0, 'H')\n",
      "(1, 'o')\n",
      "(2, 'l')\n",
      "(3, 'a')\n",
      "(4, ' ')\n",
      "(5, 'M')\n",
      "(6, 'u')\n",
      "(7, 'n')\n",
      "(8, 'd')\n",
      "(9, 'o')\n",
      "(10, '.')\n",
      "(11, ' ')\n",
      "(12, 'E')\n",
      "(13, 's')\n",
      "(14, 't')\n",
      "(15, 'o')\n",
      "(16, ' ')\n",
      "(17, 'e')\n",
      "(18, 's')\n",
      "(19, ' ')\n",
      "(20, 'u')\n",
      "(21, 'n')\n",
      "(22, 'a')\n",
      "(23, ' ')\n",
      "(24, 'p')\n",
      "(25, 'r')\n",
      "(26, 'a')\n",
      "(27, 'c')\n",
      "(28, 't')\n",
      "(29, 'i')\n",
      "(30, 'c')\n",
      "(31, 'a')\n",
      "(32, ' ')\n",
      "(33, 'd')\n",
      "(34, 'e')\n",
      "(35, 'l')\n",
      "(36, ' ')\n",
      "(37, 'l')\n",
      "(38, 'e')\n",
      "(39, 'n')\n",
      "(40, 'g')\n",
      "(41, 'u')\n",
      "(42, 'a')\n",
      "(43, 'j')\n",
      "(44, 'e')\n",
      "(45, ' ')\n",
      "(46, 'd')\n",
      "(47, 'e')\n",
      "(48, ' ')\n",
      "(49, 'p')\n",
      "(50, 'r')\n",
      "(51, 'o')\n",
      "(52, 'g')\n",
      "(53, 'r')\n",
      "(54, 'a')\n",
      "(55, 'm')\n",
      "(56, 'a')\n",
      "(57, 'c')\n",
      "(58, 'i')\n",
      "(59, 'ó')\n",
      "(60, 'n')\n",
      "(61, ' ')\n",
      "(62, 'P')\n",
      "(63, 'y')\n",
      "(64, 't')\n",
      "(65, 'h')\n",
      "(66, 'o')\n",
      "(67, 'n')\n"
     ]
    }
   ],
   "source": [
    "Lista_Cadena = list(cadena)\n",
    "for val in enumerate(Lista_Cadena):\n",
    "    print(val)"
   ]
  },
  {
   "attachments": {},
   "cell_type": "markdown",
   "metadata": {},
   "source": [
    "13) Crear dos listas y unirlas en una tupla utilizando la función zip"
   ]
  },
  {
   "cell_type": "code",
   "execution_count": 93,
   "metadata": {},
   "outputs": [
    {
     "name": "stdout",
     "output_type": "stream",
     "text": [
      "<zip object at 0x000001F2AD82B500>\n",
      "(1, 'Uno')\n",
      "(2, 'Dos')\n",
      "(3, 'Tres')\n",
      "(4, 'Cuatro')\n",
      "(5, 'Cinco')\n"
     ]
    }
   ],
   "source": [
    "lista_1 = [1, 2, 3, 4, 5]\n",
    "lista_2 = [\"Uno\", \"Dos\", \"Tres\", \"Cuatro\", \"Cinco\"]\n",
    "\n",
    "U_Listas = zip(lista_1, lista_2)\n",
    "\n",
    "for elem  in U_Listas:\n",
    "    print (elem)\n"
   ]
  },
  {
   "attachments": {},
   "cell_type": "markdown",
   "metadata": {},
   "source": [
    "14) A partir de la siguiente lista de números, crear una nueva sólo si el número es divisible por 7<br>\n",
    "lis = [18,21,29,32,35,42,56,60,63,71,84,90,91,100]"
   ]
  },
  {
   "cell_type": "code",
   "execution_count": 99,
   "metadata": {},
   "outputs": [
    {
     "name": "stdout",
     "output_type": "stream",
     "text": [
      "[21, 35, 42, 56, 63, 84, 91]\n"
     ]
    }
   ],
   "source": [
    "lis = [18,21,29,32,35,42,56,60,63,71,84,90,91,100]\n",
    "condi = False\n",
    "for numero in lis:\n",
    "    if numero % 7 == 0:\n",
    "        if condi==False:\n",
    "           Nueva_lis = list ()\n",
    "           Nueva_lis.append(numero)\n",
    "           condi=True\n",
    "        else:\n",
    "          Nueva_lis.append(numero)\n",
    "\n",
    "print(Nueva_lis)      "
   ]
  },
  {
   "attachments": {},
   "cell_type": "markdown",
   "metadata": {},
   "source": [
    "15) A partir de la lista de a continuación, contar la cantidad total de elementos que contiene, teniendo en cuenta que un elemento de la lista podría ser otra lista:<br>\n",
    "lis = [[1,2,3,4],'rojo','verde',[True,False,False],['uno','dos','tres']]"
   ]
  },
  {
   "cell_type": "code",
   "execution_count": 115,
   "metadata": {},
   "outputs": [
    {
     "name": "stdout",
     "output_type": "stream",
     "text": [
      "12\n"
     ]
    }
   ],
   "source": [
    "lis=[[1,2,3,4], \"rojo\", \"verde\", [True, False, False],[\"uno\", \"dos\", \"tres\"]]\n",
    "cantidad = 0\n",
    "for elem in lis:\n",
    "    if type(elem)== list:    \n",
    "       cantidad = cantidad + len(elem)\n",
    "    else: \n",
    "        cantidad +=1   \n",
    "\n",
    "print(cantidad)"
   ]
  },
  {
   "attachments": {},
   "cell_type": "markdown",
   "metadata": {},
   "source": [
    "16) Tomar la lista del punto anterior y convertir cada elemento en una lista si no lo es"
   ]
  },
  {
   "cell_type": "code",
   "execution_count": 124,
   "metadata": {},
   "outputs": [
    {
     "name": "stdout",
     "output_type": "stream",
     "text": [
      "[[1, 2, 3, 4], ['r', 'o', 'j', 'o'], ['v', 'e', 'r', 'd', 'e'], [True, False, False], ['uno', 'dos', 'tres']]\n"
     ]
    }
   ],
   "source": [
    "for i, elem in enumerate(lis):\n",
    "    if type(elem) != list:\n",
    "       lis[i] = [elem]\n",
    "\n",
    "print (lis)"
   ]
  }
 ],
 "metadata": {
  "interpreter": {
   "hash": "c85384e4cb51c8b72350f3a8712cc8351fdc3955e32a27f9b60c6242ab125f01"
  },
  "kernelspec": {
   "display_name": "Python 3 (ipykernel)",
   "language": "python",
   "name": "python3"
  },
  "language_info": {
   "codemirror_mode": {
    "name": "ipython",
    "version": 3
   },
   "file_extension": ".py",
   "mimetype": "text/x-python",
   "name": "python",
   "nbconvert_exporter": "python",
   "pygments_lexer": "ipython3",
   "version": "3.11.4"
  }
 },
 "nbformat": 4,
 "nbformat_minor": 4
}
