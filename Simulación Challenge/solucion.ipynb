{
 "cells": [
  {
   "cell_type": "code",
   "execution_count": 8,
   "metadata": {},
   "outputs": [],
   "source": [
    "class Func_creadas_Mod7:\n",
    "    \n",
    "  \n",
    "    def Calc_facto(self, num):\n",
    "        \n",
    "        if num == 1:\n",
    "            return 1\n",
    "        if type(num) != int:\n",
    "            return 'Debe ingresar un número entero'\n",
    "        if num < 0:\n",
    "            return 'El número debe ser positivo'\n",
    "            \n",
    "        num = num  * self.Calc_facto(num - 1)\n",
    "        return num\n",
    "\n",
    "\n",
    "\n",
    "\n",
    "\n"
   ]
  },
  {
   "cell_type": "code",
   "execution_count": 9,
   "metadata": {},
   "outputs": [
    {
     "name": "stdout",
     "output_type": "stream",
     "text": [
      "\n",
      "720\n"
     ]
    }
   ],
   "source": [
    "Func_C = Func_creadas_Mod7()\n",
    "print (\"\")\n",
    "print(Func_C.Calc_facto(6))"
   ]
  }
 ],
 "metadata": {
  "kernelspec": {
   "display_name": "Python 3",
   "language": "python",
   "name": "python3"
  },
  "language_info": {
   "codemirror_mode": {
    "name": "ipython",
    "version": 3
   },
   "file_extension": ".py",
   "mimetype": "text/x-python",
   "name": "python",
   "nbconvert_exporter": "python",
   "pygments_lexer": "ipython3",
   "version": "3.11.4"
  },
  "orig_nbformat": 4
 },
 "nbformat": 4,
 "nbformat_minor": 2
}
