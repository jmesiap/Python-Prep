{
 "cells": [
  {
   "cell_type": "code",
   "execution_count": 8,
   "metadata": {},
   "outputs": [
    {
     "name": "stdout",
     "output_type": "stream",
     "text": [
      "Nombre:  Crazy\n",
      "Edad:  6 años\n",
      "Raza:  Mestiza\n",
      "Sexo:  Hembra\n"
     ]
    }
   ],
   "source": [
    "class Gato:\n",
    "    def __init__(self, nombre, edad,raza, sexo):\n",
    "        self.nombre = nombre\n",
    "        self.edad = edad\n",
    "        self.raza = raza\n",
    "        self.sexo = sexo\n",
    "   #Creamos el método presentar\n",
    "    def presentar(self):\n",
    "        print(\"Nombre: \", self.nombre)\n",
    "        print(\"Edad: \", self.edad,\"años\")\n",
    "        print(\"Raza: \", self.raza)\n",
    "        print(\"Sexo: \", self.sexo)\n",
    "\n",
    "\n",
    "gato1 =  Gato(\"Crazy\", 6, \"Mestiza\", \"Hembra\")\n",
    "gato1.presentar()"
   ]
  }
 ],
 "metadata": {
  "kernelspec": {
   "display_name": "Python 3",
   "language": "python",
   "name": "python3"
  },
  "language_info": {
   "codemirror_mode": {
    "name": "ipython",
    "version": 3
   },
   "file_extension": ".py",
   "mimetype": "text/x-python",
   "name": "python",
   "nbconvert_exporter": "python",
   "pygments_lexer": "ipython3",
   "version": "3.11.4"
  },
  "orig_nbformat": 4
 },
 "nbformat": 4,
 "nbformat_minor": 2
}
