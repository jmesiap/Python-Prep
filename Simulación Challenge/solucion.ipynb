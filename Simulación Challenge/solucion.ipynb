{
 "cells": [
  {
   "cell_type": "code",
   "execution_count": 47,
   "metadata": {},
   "outputs": [
    {
     "name": "stdout",
     "output_type": "stream",
     "text": [
      "120\n"
     ]
    }
   ],
   "source": [
    "\n",
    "def Factorial(numero):\n",
    "    '''\n",
    "    Esta función devuelve el factorial del número pasado como parámetro.\n",
    "    En caso de que no sea de tipo entero y/o sea menor que 1, debe retornar nulo.\n",
    "    Recibe un argumento:\n",
    "        numero: Será el número con el que se calcule el factorial\n",
    "    Ej:\n",
    "        Factorial(4) debe retornar 24\n",
    "        Factorial(-2) debe retornar nulo\n",
    "    '''\n",
    "    #Tu código aca:\n",
    "    if type(numero) != int or numero < 1:\n",
    "        print(\"Ingrese un numero entero mayor que 1\")\n",
    "        return None\n",
    "    facto = 1\n",
    "    for i in range(numero):\n",
    "        facto += facto * i\n",
    "\n",
    "    print(facto)\n",
    "\n",
    "Factorial(5)\n"
   ]
  },
  {
   "cell_type": "code",
   "execution_count": 85,
   "metadata": {},
   "outputs": [
    {
     "data": {
      "text/plain": [
       "False"
      ]
     },
     "execution_count": 85,
     "metadata": {},
     "output_type": "execute_result"
    }
   ],
   "source": [
    "def EsPrimo(valor):\n",
    "    '''\n",
    "    Esta función devuelve el valor booleano True si el número reibido como parámetro es primo, de lo \n",
    "    contrario devuelve False..\n",
    "    En caso de que el parámetro no sea de tipo entero debe retornar nulo.\n",
    "    Recibe un argumento:\n",
    "        valor: Será el número a evaluar\n",
    "    Ej:\n",
    "        EsPrimo(7) debe retornar True\n",
    "        EsPrimo(8) debe retornar False\n",
    "    '''\n",
    "    #Tu código aca:\n",
    "    if type(valor) != int:\n",
    "        return None     \n",
    "    if valor==1:\n",
    "        return False\n",
    "    for i in range(2,valor):\n",
    "         if valor % i == 0:\n",
    "             return False\n",
    "    return True   \n",
    "   \n",
    "\n",
    "EsPrimo(28)\n"
   ]
  },
  {
   "cell_type": "code",
   "execution_count": 88,
   "metadata": {},
   "outputs": [
    {
     "name": "stdout",
     "output_type": "stream",
     "text": [
      "P-O-R-T-O-C-A-R-R-E-R-O\n"
     ]
    }
   ],
   "source": [
    "cadena= \"Pepe\"\n",
    "print(\"-\".join(\"PORTOCARRERO\"))"
   ]
  },
  {
   "cell_type": "code",
   "execution_count": 96,
   "metadata": {},
   "outputs": [
    {
     "name": "stdout",
     "output_type": "stream",
     "text": [
      "a\n",
      "b\n"
     ]
    }
   ],
   "source": [
    "Mi_Clase={\"a\":1, \"b\":2}\n",
    "for i in Mi_Clase:\n",
    "    print (i)"
   ]
  },
  {
   "cell_type": "code",
   "execution_count": 114,
   "metadata": {},
   "outputs": [
    {
     "name": "stdout",
     "output_type": "stream",
     "text": [
      "['Lunes', 'Martes', 'Miercoles', 'Jueves', 'Viernes']\n",
      "('Sabado', 'Domingo')\n",
      "False\n",
      "True\n",
      "1\n",
      "1\n"
     ]
    },
    {
     "data": {
      "text/plain": [
       "['Martes', 'Miercoles']"
      ]
     },
     "execution_count": 114,
     "metadata": {},
     "output_type": "execute_result"
    }
   ],
   "source": [
    "Lista=[\"Lunes\", \"Martes\", \"Miercoles\", \"Jueves\", \"Viernes\"]\n",
    "Tupla=(\"Sabado\", \"Domingo\")\n",
    "\n",
    "print (Lista)\n",
    "print(Tupla)\n",
    "\n",
    "print(\"Sabado\" in Lista)\n",
    "print(\"Sabado\" in Tupla)\n",
    "\n",
    "print(Lista.count(\"Lunes\"))\n",
    "print(Tupla.count(\"Sabado\"))\n",
    "\n",
    "Lista[1:3]"
   ]
  },
  {
   "cell_type": "code",
   "execution_count": 118,
   "metadata": {},
   "outputs": [
    {
     "data": {
      "text/plain": [
       "tuple"
      ]
     },
     "execution_count": 118,
     "metadata": {},
     "output_type": "execute_result"
    }
   ],
   "source": [
    "x=5\n",
    "y=10\n",
    "z=\"PEPE\"\n",
    "\n",
    "Mi_Lista = x,y,z\n",
    "type(Mi_Lista)"
   ]
  },
  {
   "cell_type": "code",
   "execution_count": 141,
   "metadata": {},
   "outputs": [
    {
     "name": "stdout",
     "output_type": "stream",
     "text": [
      "2\n",
      "3\n",
      "5\n",
      "7\n",
      "11\n",
      "13\n",
      "17\n",
      "19\n",
      "23\n",
      "29\n"
     ]
    }
   ],
   "source": [
    "numero=30\n",
    "n = 2\n",
    "primo = 1\n",
    "for n in range(2,numero):\n",
    "    for div in range(2, n):\n",
    "        if (n % div == 0):\n",
    "            #print(div)\n",
    "            primo = 2\n",
    "    if (primo == 1):\n",
    "        print(n)\n",
    "    else:\n",
    "       primo = 1\n",
    "    \n",
    "   "
   ]
  },
  {
   "cell_type": "code",
   "execution_count": 142,
   "metadata": {},
   "outputs": [
    {
     "data": {
      "text/plain": [
       "0"
      ]
     },
     "execution_count": 142,
     "metadata": {},
     "output_type": "execute_result"
    }
   ],
   "source": [
    "2%2"
   ]
  }
 ],
 "metadata": {
  "kernelspec": {
   "display_name": "Python 3",
   "language": "python",
   "name": "python3"
  },
  "language_info": {
   "codemirror_mode": {
    "name": "ipython",
    "version": 3
   },
   "file_extension": ".py",
   "mimetype": "text/x-python",
   "name": "python",
   "nbconvert_exporter": "python",
   "pygments_lexer": "ipython3",
   "version": "3.11.4"
  },
  "orig_nbformat": 4
 },
 "nbformat": 4,
 "nbformat_minor": 2
}
