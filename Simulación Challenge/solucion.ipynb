{
 "cells": [
  {
   "cell_type": "code",
   "execution_count": 3,
   "metadata": {},
   "outputs": [
    {
     "name": "stdout",
     "output_type": "stream",
     "text": [
      "3.141592653589793\n"
     ]
    },
    {
     "data": {
      "text/plain": [
       "\" import unittest\\n\\ndef suma(num_1, num_2):\\n     return num_1 + num_2\\n\\nclass CajaNegraTest(unittest.TestCase):\\n \\n     def test_suma_dos_positivos(self):\\n         num_1 = 10\\n         num_2 = 5\\n \\n         resultado = suma(num_1, num_2)\\n \\n         self.assertEqual(resultado, 15)\\n \\n     def test_suma_dos_negativos(self):\\n         num_1 = -10\\n         num_2 = -7\\n \\n         resultado = suma(num_1, num_2)\\n \\n         self.assertEqual(resultado, -17)\\n\\nunittest.main(argv=[''], verbosity=2, exit=False)\\n#test_suma_dos_negativos (__main__.CajaNegraTest) ... ok\\n#test_suma_dos_positivos (__main__.CajaNegraTest) ... ok \""
      ]
     },
     "execution_count": 3,
     "metadata": {},
     "output_type": "execute_result"
    }
   ],
   "source": [
    "from math import pi\n",
    "\n",
    "print (pi)\n",
    "\"\"\" import unittest\n",
    "\n",
    "def suma(num_1, num_2):\n",
    "     return num_1 + num_2\n",
    "\n",
    "class CajaNegraTest(unittest.TestCase):\n",
    " \n",
    "     def test_suma_dos_positivos(self):\n",
    "         num_1 = 10\n",
    "         num_2 = 5\n",
    " \n",
    "         resultado = suma(num_1, num_2)\n",
    " \n",
    "         self.assertEqual(resultado, 15)\n",
    " \n",
    "     def test_suma_dos_negativos(self):\n",
    "         num_1 = -10\n",
    "         num_2 = -7\n",
    " \n",
    "         resultado = suma(num_1, num_2)\n",
    " \n",
    "         self.assertEqual(resultado, -17)\n",
    "\n",
    "unittest.main(argv=[''], verbosity=2, exit=False)\n",
    "#test_suma_dos_negativos (__main__.CajaNegraTest) ... ok\n",
    "#test_suma_dos_positivos (__main__.CajaNegraTest) ... ok \"\"\"\n",
    "\n",
    "\n"
   ]
  },
  {
   "cell_type": "code",
   "execution_count": 9,
   "metadata": {},
   "outputs": [
    {
     "name": "stdout",
     "output_type": "stream",
     "text": [
      "\n",
      "720\n"
     ]
    }
   ],
   "source": []
  }
 ],
 "metadata": {
  "kernelspec": {
   "display_name": "Python 3",
   "language": "python",
   "name": "python3"
  },
  "language_info": {
   "codemirror_mode": {
    "name": "ipython",
    "version": 3
   },
   "file_extension": ".py",
   "mimetype": "text/x-python",
   "name": "python",
   "nbconvert_exporter": "python",
   "pygments_lexer": "ipython3",
   "version": "3.11.4"
  },
  "orig_nbformat": 4
 },
 "nbformat": 4,
 "nbformat_minor": 2
}
