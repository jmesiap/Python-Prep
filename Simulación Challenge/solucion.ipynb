{
 "cells": [
  {
   "cell_type": "code",
   "execution_count": 49,
   "metadata": {},
   "outputs": [
    {
     "name": "stdout",
     "output_type": "stream",
     "text": [
      "[2, 3, 4, 4, 5, 6, 6, 6]\n"
     ]
    }
   ],
   "source": [
    "def F_List_Primo(lista_Num):\n",
    "    primos = list()\n",
    "    \n",
    "    for val in lista_Num:\n",
    "        if val != 1:\n",
    "           i = 1    \n",
    "           while i <= val:\n",
    "              if val%i == 0:\n",
    "                 if val == i: \n",
    "                    primos.append(val)\n",
    "                    \n",
    "              i+=1      \n",
    "    return primos\n",
    "\n",
    "\n",
    "valores = F_List_Primo([1, 2, 3, 4, 5, 6])    \n",
    "print(valores)"
   ]
  }
 ],
 "metadata": {
  "kernelspec": {
   "display_name": "Python 3",
   "language": "python",
   "name": "python3"
  },
  "language_info": {
   "codemirror_mode": {
    "name": "ipython",
    "version": 3
   },
   "file_extension": ".py",
   "mimetype": "text/x-python",
   "name": "python",
   "nbconvert_exporter": "python",
   "pygments_lexer": "ipython3",
   "version": "3.11.4"
  },
  "orig_nbformat": 4
 },
 "nbformat": 4,
 "nbformat_minor": 2
}
