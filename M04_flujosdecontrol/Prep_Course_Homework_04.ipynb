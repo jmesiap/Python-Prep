{
 "cells": [
  {
   "attachments": {},
   "cell_type": "markdown",
   "metadata": {},
   "source": [
    "## Flujos de Control"
   ]
  },
  {
   "attachments": {},
   "cell_type": "markdown",
   "metadata": {},
   "source": [
    "1) Crear una variable que contenga un elemento del conjunto de números enteros y luego imprimir por pantalla si es mayor o menor a cero"
   ]
  },
  {
   "cell_type": "code",
   "execution_count": 3,
   "metadata": {},
   "outputs": [
    {
     "name": "stdout",
     "output_type": "stream",
     "text": [
      "es mayor a cero\n"
     ]
    }
   ],
   "source": [
    "num = 8\n",
    "if (num > 0):\n",
    "    print(\"es mayor a cero\")\n",
    "elif (num < 0) :  \n",
    "    print(\"es menor a cero\")    \n",
    "else: \n",
    "    print(\"es igual a cero\")"
   ]
  },
  {
   "attachments": {},
   "cell_type": "markdown",
   "metadata": {},
   "source": [
    "2) Crear dos variables y un condicional que informe si son del mismo tipo de dato"
   ]
  },
  {
   "cell_type": "code",
   "execution_count": 10,
   "metadata": {},
   "outputs": [
    {
     "name": "stdout",
     "output_type": "stream",
     "text": [
      "Son el mismo tipo de dato:  <class 'int'>\n"
     ]
    }
   ],
   "source": [
    "a = 5\n",
    "b = 8\n",
    "\n",
    "if (type(a)==type(b)):\n",
    "   print(\"Son el mismo tipo de dato: \", type(a)) \n",
    "else: \n",
    "   print(\"Son distintos tipos de dato: \")     "
   ]
  },
  {
   "attachments": {},
   "cell_type": "markdown",
   "metadata": {},
   "source": [
    "3) Para los valores enteros del 1 al 20, imprimir por pantalla si es par o impar"
   ]
  },
  {
   "cell_type": "code",
   "execution_count": 16,
   "metadata": {},
   "outputs": [
    {
     "name": "stdout",
     "output_type": "stream",
     "text": [
      "1 : es impar\n",
      "2 : es par\n",
      "3 : es impar\n",
      "4 : es par\n",
      "5 : es impar\n",
      "6 : es par\n",
      "7 : es impar\n",
      "8 : es par\n",
      "9 : es impar\n",
      "10 : es par\n",
      "11 : es impar\n",
      "12 : es par\n",
      "13 : es impar\n",
      "14 : es par\n",
      "15 : es impar\n",
      "16 : es par\n",
      "17 : es impar\n",
      "18 : es par\n",
      "19 : es impar\n",
      "20 : es par\n"
     ]
    }
   ],
   "source": [
    "for i in range(1, 21):\n",
    "    if (i%2 == 0):\n",
    "        print (i, \": es par\")\n",
    "    else:\n",
    "        print (i, \": es impar\")"
   ]
  },
  {
   "attachments": {},
   "cell_type": "markdown",
   "metadata": {},
   "source": [
    "4) En un ciclo for mostrar para los valores entre 0 y 5 el resultado de elevarlo a la potencia igual a 3"
   ]
  },
  {
   "cell_type": "code",
   "execution_count": 152,
   "metadata": {},
   "outputs": [
    {
     "name": "stdout",
     "output_type": "stream",
     "text": [
      "0  a la potencia de 3 es =  0\n",
      "1  a la potencia de 3 es =  1\n",
      "2  a la potencia de 3 es =  8\n",
      "3  a la potencia de 3 es =  27\n",
      "4  a la potencia de 3 es =  64\n",
      "5  a la potencia de 3 es =  125\n"
     ]
    }
   ],
   "source": [
    "for num in range(6):\n",
    "    print(num, \" a la potencia de 3 es = \", num**3)"
   ]
  },
  {
   "attachments": {},
   "cell_type": "markdown",
   "metadata": {},
   "source": [
    "5) Crear una variable que contenga un número entero y realizar un ciclo for la misma cantidad de ciclos"
   ]
  },
  {
   "cell_type": "code",
   "execution_count": 6,
   "metadata": {},
   "outputs": [
    {
     "name": "stdout",
     "output_type": "stream",
     "text": [
      "1\n",
      "2\n",
      "3\n",
      "4\n",
      "5\n",
      "6\n",
      "7\n",
      "8\n",
      "9\n",
      "10\n",
      "11\n",
      "12\n",
      "13\n",
      "14\n",
      "15\n",
      "16\n",
      "17\n",
      "18\n",
      "19\n",
      "20\n"
     ]
    }
   ],
   "source": [
    "num=20\n",
    "for i in range(1,num+1):\n",
    "    print(i)"
   ]
  },
  {
   "attachments": {},
   "cell_type": "markdown",
   "metadata": {},
   "source": [
    "6) Utilizar un ciclo while para realizar el factorial de un número guardado en una variable, sólo si la variable contiene un número entero mayor a 0"
   ]
  },
  {
   "cell_type": "code",
   "execution_count": 17,
   "metadata": {},
   "outputs": [
    {
     "name": "stdout",
     "output_type": "stream",
     "text": [
      "6\n"
     ]
    }
   ],
   "source": [
    "numero = 3\n",
    "facto = 1\n",
    "if (numero > 0):\n",
    "    while (numero > 0):\n",
    "        facto = facto * numero\n",
    "        numero = numero - 1\n",
    "else:\n",
    "    facto = 1            \n",
    "print (facto)"
   ]
  },
  {
   "attachments": {},
   "cell_type": "markdown",
   "metadata": {},
   "source": [
    "7) Crear un ciclo for dentro de un ciclo while"
   ]
  },
  {
   "cell_type": "code",
   "execution_count": 160,
   "metadata": {},
   "outputs": [
    {
     "name": "stdout",
     "output_type": "stream",
     "text": [
      "Ciclo while numero:  1\n",
      "    Ciclo for numero:  1\n",
      "    Ciclo for numero:  2\n",
      "    Ciclo for numero:  3\n",
      "    Ciclo for numero:  4\n",
      "    Ciclo for numero:  5\n",
      "Ciclo while numero:  2\n",
      "    Ciclo for numero:  1\n",
      "    Ciclo for numero:  2\n",
      "    Ciclo for numero:  3\n",
      "    Ciclo for numero:  4\n",
      "Ciclo while numero:  3\n",
      "    Ciclo for numero:  1\n",
      "    Ciclo for numero:  2\n",
      "    Ciclo for numero:  3\n",
      "Ciclo while numero:  4\n",
      "    Ciclo for numero:  1\n",
      "    Ciclo for numero:  2\n",
      "Ciclo while numero:  5\n",
      "    Ciclo for numero:  1\n"
     ]
    }
   ],
   "source": [
    "num = 5\n",
    "x = 1\n",
    "while (num > 0):\n",
    "    print(\"Ciclo while numero: \", (num-num+x))\n",
    "    for i in range(1, num+1):\n",
    "        print(\"    Ciclo for numero: \", i)\n",
    "    num = num - 1\n",
    "    x = x + 1    "
   ]
  },
  {
   "attachments": {},
   "cell_type": "markdown",
   "metadata": {},
   "source": [
    "8) Crear un ciclo while dentro de un ciclo for"
   ]
  },
  {
   "cell_type": "code",
   "execution_count": 167,
   "metadata": {},
   "outputs": [
    {
     "name": "stdout",
     "output_type": "stream",
     "text": [
      "Ciclo for nro  1\n",
      "     Ciclo while nro  3\n",
      "     Ciclo while nro  2\n",
      "     Ciclo while nro  1\n",
      "Ciclo for nro  2\n",
      "     Ciclo while nro  3\n",
      "     Ciclo while nro  2\n",
      "     Ciclo while nro  1\n",
      "Ciclo for nro  3\n",
      "     Ciclo while nro  3\n",
      "     Ciclo while nro  2\n",
      "     Ciclo while nro  1\n"
     ]
    }
   ],
   "source": [
    "xxx = 3\n",
    "\n",
    "for i in range(1, xxx+1):\n",
    "    yyy = 3    \n",
    "    print('Ciclo for nro ', i)\n",
    "    \n",
    "    while(yyy > 0):\n",
    "        print('     Ciclo while nro ' , yyy)\n",
    "        \n",
    "        yyy = yyy - 1\n",
    "        \n",
    "   \n",
    "        "
   ]
  },
  {
   "attachments": {},
   "cell_type": "markdown",
   "metadata": {},
   "source": [
    "9) Imprimir los números primos existentes entre 0 y 30"
   ]
  },
  {
   "cell_type": "code",
   "execution_count": 138,
   "metadata": {},
   "outputs": [
    {
     "name": "stdout",
     "output_type": "stream",
     "text": [
      "2  = Es numero primo!\n",
      "3  = Es numero primo!\n",
      "5  = Es numero primo!\n",
      "7  = Es numero primo!\n",
      "11  = Es numero primo!\n",
      "13  = Es numero primo!\n",
      "17  = Es numero primo!\n",
      "19  = Es numero primo!\n",
      "23  = Es numero primo!\n",
      "29  = Es numero primo!\n"
     ]
    }
   ],
   "source": [
    "Num_Primo = 30\n",
    "Acum_P = 0\n",
    "num = 2\n",
    "\n",
    "while (num <= (Num_Primo)):\n",
    "\n",
    "    for i in range(2, num+1):\n",
    "       if (num % i == 0):\n",
    "          Acum_P = Acum_P + 1\n",
    "\n",
    "    if (Acum_P == 1):\n",
    "       print(num, \" = Es numero primo!\")\n",
    "\n",
    "    Acum_P = 0\n",
    "    num = num + 1 \n"
   ]
  },
  {
   "attachments": {},
   "cell_type": "markdown",
   "metadata": {},
   "source": [
    "10) ¿Se puede mejorar el proceso del punto 9? Utilizar las sentencias break y/ó continue para tal fin"
   ]
  },
  {
   "cell_type": "code",
   "execution_count": 139,
   "metadata": {},
   "outputs": [
    {
     "name": "stdout",
     "output_type": "stream",
     "text": [
      "2  = Es numero primo!\n",
      "3  = Es numero primo!\n",
      "5  = Es numero primo!\n",
      "7  = Es numero primo!\n",
      "11  = Es numero primo!\n",
      "13  = Es numero primo!\n",
      "17  = Es numero primo!\n",
      "19  = Es numero primo!\n",
      "23  = Es numero primo!\n",
      "29  = Es numero primo!\n"
     ]
    }
   ],
   "source": [
    "Num_Primo = 30\n",
    "Acum_P = 0\n",
    "num = 2\n",
    "\n",
    "while (num <= (Num_Primo)):\n",
    "\n",
    "    for i in range(2, num+1):\n",
    "       if (num % i == 0):\n",
    "          Acum_P = Acum_P + 1\n",
    "          \n",
    "          if Acum_P > 1: break\n",
    "\n",
    "    if (Acum_P == 1):\n",
    "       print(num, \" = Es numero primo!\")\n",
    "\n",
    "    Acum_P = 0\n",
    "    num = num + 1 "
   ]
  },
  {
   "attachments": {},
   "cell_type": "markdown",
   "metadata": {},
   "source": [
    "11) En los puntos 9 y 10, se diseño un código que encuentra números primos y además se lo optimizó. ¿Es posible saber en qué medida se optimizó?"
   ]
  },
  {
   "cell_type": "code",
   "execution_count": 144,
   "metadata": {},
   "outputs": [
    {
     "name": "stdout",
     "output_type": "stream",
     "text": [
      "2  = Es numero primo!\n",
      "3  = Es numero primo!\n",
      "5  = Es numero primo!\n",
      "7  = Es numero primo!\n",
      "11  = Es numero primo!\n",
      "13  = Es numero primo!\n",
      "17  = Es numero primo!\n",
      "19  = Es numero primo!\n",
      "23  = Es numero primo!\n",
      "29  = Es numero primo!\n",
      "El numero de iteracciones  =  435\n"
     ]
    }
   ],
   "source": [
    "Num_Primo = 30\n",
    "Acum_P = 0\n",
    "num = 2\n",
    "acum_sin_break = 0\n",
    "while (num <= Num_Primo):\n",
    "\n",
    "    for i in range(2, num+1):\n",
    "       acum_sin_break = acum_sin_break + 1 \n",
    "       if (num % i == 0):\n",
    "          Acum_P = Acum_P + 1\n",
    "\n",
    "    if (Acum_P == 1):\n",
    "       print(num, \" = Es numero primo!\")\n",
    "\n",
    "    Acum_P = 0\n",
    "    num = num + 1 \n",
    "\n",
    "print (\"El numero de iteracciones  = \", acum_sin_break)\n"
   ]
  },
  {
   "cell_type": "code",
   "execution_count": 146,
   "metadata": {},
   "outputs": [
    {
     "name": "stdout",
     "output_type": "stream",
     "text": [
      "2  = Es numero primo!\n",
      "3  = Es numero primo!\n",
      "5  = Es numero primo!\n",
      "7  = Es numero primo!\n",
      "11  = Es numero primo!\n",
      "13  = Es numero primo!\n",
      "17  = Es numero primo!\n",
      "19  = Es numero primo!\n",
      "23  = Es numero primo!\n",
      "29  = Es numero primo!\n",
      "El numero de iteracciones  =  226\n",
      "Se optimizó a un 51% de ciclos aplicando break\n"
     ]
    }
   ],
   "source": [
    "Num_Primo = 30\n",
    "Acum_P = 0\n",
    "num = 2\n",
    "acum_con_break = 0\n",
    "while (num <= Num_Primo):\n",
    "\n",
    "    for i in range(2, num+1):\n",
    "       acum_con_break = acum_con_break + 1 \n",
    "       if (num % i == 0):\n",
    "          Acum_P = Acum_P + 1\n",
    "          if Acum_P > 1: break\n",
    "\n",
    "    if (Acum_P == 1):\n",
    "       print(num, \" = Es numero primo!\")\n",
    "\n",
    "    Acum_P = 0\n",
    "    num = num + 1 \n",
    "\n",
    "print (\"El numero de iteracciones  = \", acum_con_break)\n",
    "\n",
    "print('Se optimizó a un ' + str(int((acum_con_break/acum_sin_break)*100)) + '% de ciclos aplicando break')"
   ]
  },
  {
   "attachments": {},
   "cell_type": "markdown",
   "metadata": {},
   "source": [
    "12) Aplicando continue, armar un ciclo while que solo imprima los valores divisibles por 12, dentro del rango de números de 100 a 300"
   ]
  },
  {
   "cell_type": "code",
   "execution_count": 170,
   "metadata": {},
   "outputs": [
    {
     "name": "stdout",
     "output_type": "stream",
     "text": [
      "108\n",
      "120\n",
      "132\n",
      "144\n",
      "156\n",
      "168\n",
      "180\n",
      "192\n",
      "204\n",
      "216\n",
      "228\n",
      "240\n",
      "252\n",
      "264\n",
      "276\n",
      "288\n",
      "300\n"
     ]
    }
   ],
   "source": [
    "numeros = 100\n",
    "while(numeros <= 300):\n",
    "    if (numeros % 12 != 0):\n",
    "       numeros = numeros + 1\n",
    "       continue\n",
    "    print(numeros)\n",
    "    numeros = numeros + 1\n",
    "    "
   ]
  },
  {
   "attachments": {},
   "cell_type": "markdown",
   "metadata": {},
   "source": [
    "13) Utilizar la función **input()** que permite hacer ingresos por teclado, para encontrar números primos y dar la opción al usario de buscar el siguiente"
   ]
  },
  {
   "cell_type": "code",
   "execution_count": 182,
   "metadata": {},
   "outputs": [],
   "source": [
    "rpta=\"si\"\n",
    "while rpta == \"si\": \n",
    "   rpta = str(input(\"Desea ingresar un número y saber si es primo?: \"))\n",
    "   if rpta == \"si\":      \n",
    "      Num_Primo = int(input(\"Ingresa un numero entero mayor a 1: \"))\n",
    "      acum = 0\n",
    "      num = 2\n",
    "\n",
    "      while (num <= (Num_Primo )):\n",
    "\n",
    "         for i in range(2, num+1):\n",
    "            if (num % i == 0):\n",
    "               acum = acum + 1\n",
    "\n",
    "         if (acum == 1):\n",
    "            print(num, \" = Es numero primo!\")\n",
    "\n",
    "         acum = 0\n",
    "         num = num + 1 \n",
    "   else:\n",
    "      break   \n",
    "            "
   ]
  },
  {
   "attachments": {},
   "cell_type": "markdown",
   "metadata": {},
   "source": [
    "14) Crear un ciclo while que encuentre dentro del rango de 100 a 300 el primer número divisible por 3 y además múltiplo de 6"
   ]
  },
  {
   "cell_type": "code",
   "execution_count": 7,
   "metadata": {},
   "outputs": [
    {
     "name": "stdout",
     "output_type": "stream",
     "text": [
      "108\n",
      "120\n",
      "132\n",
      "144\n",
      "156\n",
      "168\n",
      "180\n",
      "192\n",
      "204\n",
      "216\n",
      "228\n",
      "240\n",
      "252\n",
      "264\n",
      "276\n",
      "288\n",
      "300\n"
     ]
    }
   ],
   "source": [
    "num = 99\n",
    "while(num <= 300):\n",
    "    num += 1\n",
    "    if (num % 12 != 0):\n",
    "        continue\n",
    "    print(num)"
   ]
  }
 ],
 "metadata": {
  "interpreter": {
   "hash": "c85384e4cb51c8b72350f3a8712cc8351fdc3955e32a27f9b60c6242ab125f01"
  },
  "kernelspec": {
   "display_name": "Python 3 (ipykernel)",
   "language": "python",
   "name": "python3"
  },
  "language_info": {
   "codemirror_mode": {
    "name": "ipython",
    "version": 3
   },
   "file_extension": ".py",
   "mimetype": "text/x-python",
   "name": "python",
   "nbconvert_exporter": "python",
   "pygments_lexer": "ipython3",
   "version": "3.11.4"
  }
 },
 "nbformat": 4,
 "nbformat_minor": 4
}
