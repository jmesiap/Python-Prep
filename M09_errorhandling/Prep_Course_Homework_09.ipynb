{
 "cells": [
  {
   "attachments": {},
   "cell_type": "markdown",
   "metadata": {},
   "source": [
    "## Manejo de errores"
   ]
  },
  {
   "attachments": {},
   "cell_type": "markdown",
   "metadata": {},
   "source": [
    "1) Con la clase creada en el módulo 8, tener en cuenta diferentes casos en que el código pudiera arrojar error. Por ejemplo, en la creación del objeto recibimos una lista de números enteros pero ¿qué pasa si se envía otro tipo de dato?"
   ]
  },
  {
   "cell_type": "code",
   "execution_count": 5,
   "metadata": {},
   "outputs": [],
   "source": [
    "import sys\n",
    "sys.path.append(r'C:\\JIMPSOFT\\HENRY\\DATA SCIENCE\\Python-Prep\\M08_clasesyOOP')"
   ]
  },
  {
   "cell_type": "code",
   "execution_count": 6,
   "metadata": {},
   "outputs": [
    {
     "name": "stdout",
     "output_type": "stream",
     "text": [
      "(1, 'No es número primo')\n",
      "(2, 'Es número primo')\n"
     ]
    },
    {
     "ename": "TypeError",
     "evalue": "'str' object cannot be interpreted as an integer",
     "output_type": "error",
     "traceback": [
      "\u001b[1;31m---------------------------------------------------------------------------\u001b[0m",
      "\u001b[1;31mTypeError\u001b[0m                                 Traceback (most recent call last)",
      "\u001b[1;32mc:\\JIMPSOFT\\HENRY\\DATA SCIENCE\\Python-Prep\\M09_errorhandling\\Prep_Course_Homework_09.ipynb Cell 4\u001b[0m line \u001b[0;36m3\n\u001b[0;32m      <a href='vscode-notebook-cell:/c%3A/JIMPSOFT/HENRY/DATA%20SCIENCE/Python-Prep/M09_errorhandling/Prep_Course_Homework_09.ipynb#W3sZmlsZQ%3D%3D?line=0'>1</a>\u001b[0m \u001b[39mfrom\u001b[39;00m \u001b[39mTareaM08\u001b[39;00m \u001b[39mimport\u001b[39;00m FuncionesM08\n\u001b[0;32m      <a href='vscode-notebook-cell:/c%3A/JIMPSOFT/HENRY/DATA%20SCIENCE/Python-Prep/M09_errorhandling/Prep_Course_Homework_09.ipynb#W3sZmlsZQ%3D%3D?line=1'>2</a>\u001b[0m Func_Import \u001b[39m=\u001b[39m FuncionesM08([\u001b[39m1\u001b[39m,\u001b[39m2\u001b[39m,\u001b[39m\"\u001b[39m\u001b[39mHola\u001b[39m\u001b[39m\"\u001b[39m])\n\u001b[1;32m----> <a href='vscode-notebook-cell:/c%3A/JIMPSOFT/HENRY/DATA%20SCIENCE/Python-Prep/M09_errorhandling/Prep_Course_Homework_09.ipynb#W3sZmlsZQ%3D%3D?line=2'>3</a>\u001b[0m Func_Import\u001b[39m.\u001b[39;49mCalc_Primo()\n",
      "File \u001b[1;32mC:\\JIMPSOFT\\HENRY\\DATA SCIENCE\\Python-Prep\\M08_clasesyOOP\\TareaM08.py:9\u001b[0m, in \u001b[0;36mFuncionesM08.Calc_Primo\u001b[1;34m(self)\u001b[0m\n\u001b[0;32m      7\u001b[0m \u001b[39mdef\u001b[39;00m \u001b[39mCalc_Primo\u001b[39m(\u001b[39mself\u001b[39m):\n\u001b[0;32m      8\u001b[0m     \u001b[39mfor\u001b[39;00m i \u001b[39min\u001b[39;00m \u001b[39mself\u001b[39m\u001b[39m.\u001b[39mLista:\n\u001b[1;32m----> 9\u001b[0m         \u001b[39mprint\u001b[39m(\u001b[39mself\u001b[39;49m\u001b[39m.\u001b[39;49mF_primo(i))\n",
      "File \u001b[1;32mC:\\JIMPSOFT\\HENRY\\DATA SCIENCE\\Python-Prep\\M08_clasesyOOP\\TareaM08.py:14\u001b[0m, in \u001b[0;36mFuncionesM08.F_primo\u001b[1;34m(self, num)\u001b[0m\n\u001b[0;32m     11\u001b[0m \u001b[39mdef\u001b[39;00m \u001b[39mF_primo\u001b[39m(\u001b[39mself\u001b[39m, num):\n\u001b[0;32m     12\u001b[0m     \u001b[39mif\u001b[39;00m num \u001b[39m==\u001b[39m \u001b[39m1\u001b[39m: \u001b[39mreturn\u001b[39;00m num, \u001b[39m\"\u001b[39m\u001b[39mNo es número primo\u001b[39m\u001b[39m\"\u001b[39m    \n\u001b[1;32m---> 14\u001b[0m     \u001b[39mfor\u001b[39;00m i \u001b[39min\u001b[39;00m \u001b[39mrange\u001b[39;49m(\u001b[39m2\u001b[39;49m,num):\n\u001b[0;32m     15\u001b[0m         \u001b[39mif\u001b[39;00m  num \u001b[39m%\u001b[39m i \u001b[39m==\u001b[39m \u001b[39m0\u001b[39m: \n\u001b[0;32m     16\u001b[0m             \u001b[39mreturn\u001b[39;00m num, \u001b[39m\"\u001b[39m\u001b[39mNo es número primo\u001b[39m\u001b[39m\"\u001b[39m\n",
      "\u001b[1;31mTypeError\u001b[0m: 'str' object cannot be interpreted as an integer"
     ]
    }
   ],
   "source": [
    "from TareaM08 import FuncionesM08\n",
    "Func_Import = FuncionesM08([1,2,\"Hola\"])\n",
    "Func_Import.Calc_Primo()\n"
   ]
  },
  {
   "attachments": {},
   "cell_type": "markdown",
   "metadata": {},
   "source": [
    "2) En la función que hace la conversión de grados, validar que los parámetros enviados sean los esperados, de no serlo, informar cuáles son los valores esperados."
   ]
  },
  {
   "cell_type": "code",
   "execution_count": 7,
   "metadata": {},
   "outputs": [
    {
     "name": "stdout",
     "output_type": "stream",
     "text": [
      "Valor incorrecto --> 1 <--     Ingrese los parametros esperados, ['Celsius', 'Farenheit', 'Kelvin']\n",
      "1 Celsius convertido a Farenheit es igual a: 33.8\n",
      "2 Celsius convertido a Farenheit es igual a: 35.6\n",
      "3 Celsius convertido a Farenheit es igual a: 37.4\n",
      "4 Celsius convertido a Farenheit es igual a: 39.2\n",
      "5 Celsius convertido a Farenheit es igual a: 41.0\n",
      "6 Celsius convertido a Farenheit es igual a: 42.8\n",
      "7 Celsius convertido a Farenheit es igual a: 44.6\n",
      "8 Celsius convertido a Farenheit es igual a: 46.4\n",
      "9 Celsius convertido a Farenheit es igual a: 48.2\n",
      "10 Celsius convertido a Farenheit es igual a: 50.0\n"
     ]
    }
   ],
   "source": [
    "from TareaM08 import FuncionesM08\n",
    "\n",
    "\n",
    "Func_Import = FuncionesM08([1,2,3,4,5,6,7,8,9,10])\n",
    "Func_Import.Calc_Convertir(\"1\",\"2\")\n",
    "Func_Import.Calc_Convertir(\"Celsius\",\"Farenheit\")\n"
   ]
  },
  {
   "attachments": {},
   "cell_type": "markdown",
   "metadata": {},
   "source": [
    "3) Importar el modulo \"unittest\" y crear los siguientes casos de pruebas sobre la clase utilizada en el punto 2<br>\n",
    "Creacion del objeto incorrecta<br>\n",
    "Creacion correcta del objeto<br>\n",
    "Metodo valor_modal()<br>\n",
    "\n",
    "Se puede usar \"raise ValueError()\" en la creación de la clase para verificar el error. Investigar sobre esta funcionalidad."
   ]
  },
  {
   "cell_type": "code",
   "execution_count": 8,
   "metadata": {},
   "outputs": [],
   "source": [
    "import unittest\n",
    "from TareaM08 import FuncionesM08"
   ]
  },
  {
   "cell_type": "code",
   "execution_count": 9,
   "metadata": {},
   "outputs": [
    {
     "name": "stderr",
     "output_type": "stream",
     "text": [
      "test_crear_Obj (__main__.Pregunta3.test_crear_Obj) ... ERROR\n",
      "\n",
      "======================================================================\n",
      "ERROR: test_crear_Obj (__main__.Pregunta3.test_crear_Obj)\n",
      "----------------------------------------------------------------------\n",
      "TypeError: Pregunta3.test_crear_Obj() missing 1 required positional argument: 'lista_recep'\n",
      "\n",
      "----------------------------------------------------------------------\n",
      "Ran 1 test in 0.002s\n",
      "\n",
      "FAILED (errors=1)\n"
     ]
    },
    {
     "data": {
      "text/plain": [
       "<unittest.main.TestProgram at 0x26eee7b56d0>"
      ]
     },
     "execution_count": 9,
     "metadata": {},
     "output_type": "execute_result"
    }
   ],
   "source": [
    "\n",
    "class Pregunta3(unittest.TestCase):\n",
    "    lista_recep = FuncionesM08([1,2,3,4])\n",
    "    \n",
    "    def test_crear_Obj(self, lista_recep):\n",
    "        self.assertEqual(type(lista_recep), list)\n",
    "            \n",
    "\n",
    "#if __name__ == '__main__':\n",
    "unittest.main(argv=[''], verbosity=2, exit=False)"
   ]
  },
  {
   "attachments": {},
   "cell_type": "markdown",
   "metadata": {},
   "source": [
    "4) Probar una creación incorrecta y visualizar la salida del \"raise\""
   ]
  },
  {
   "cell_type": "code",
   "execution_count": null,
   "metadata": {},
   "outputs": [],
   "source": []
  },
  {
   "attachments": {},
   "cell_type": "markdown",
   "metadata": {},
   "source": [
    "6) Agregar casos de pruebas para el método verifica_primos() realizando el cambio en la clase, para que devuelva una lista de True o False en función de que el elemento en la posisicón sea o no primo"
   ]
  },
  {
   "cell_type": "code",
   "execution_count": null,
   "metadata": {},
   "outputs": [],
   "source": []
  },
  {
   "attachments": {},
   "cell_type": "markdown",
   "metadata": {},
   "source": [
    "7) Agregar casos de pruebas para el método conversion_grados()"
   ]
  },
  {
   "cell_type": "code",
   "execution_count": null,
   "metadata": {},
   "outputs": [],
   "source": []
  },
  {
   "attachments": {},
   "cell_type": "markdown",
   "metadata": {},
   "source": [
    "8) Agregar casos de pruebas para el método factorial()"
   ]
  },
  {
   "cell_type": "code",
   "execution_count": null,
   "metadata": {},
   "outputs": [],
   "source": []
  }
 ],
 "metadata": {
  "interpreter": {
   "hash": "c85384e4cb51c8b72350f3a8712cc8351fdc3955e32a27f9b60c6242ab125f01"
  },
  "kernelspec": {
   "display_name": "Python 3 (ipykernel)",
   "language": "python",
   "name": "python3"
  },
  "language_info": {
   "codemirror_mode": {
    "name": "ipython",
    "version": 3
   },
   "file_extension": ".py",
   "mimetype": "text/x-python",
   "name": "python",
   "nbconvert_exporter": "python",
   "pygments_lexer": "ipython3",
   "version": "3.11.4"
  }
 },
 "nbformat": 4,
 "nbformat_minor": 4
}
